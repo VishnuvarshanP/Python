{
  "nbformat": 4,
  "nbformat_minor": 0,
  "metadata": {
    "kernelspec": {
      "display_name": "Python 3",
      "language": "python",
      "name": "python3"
    },
    "language_info": {
      "codemirror_mode": {
        "name": "ipython",
        "version": 3
      },
      "file_extension": ".py",
      "mimetype": "text/x-python",
      "name": "python",
      "nbconvert_exporter": "python",
      "pygments_lexer": "ipython3",
      "version": "3.8.5"
    },
    "colab": {
      "name": "Python Basics.ipynb",
      "provenance": [],
      "collapsed_sections": []
    }
  },
  "cells": [
    {
      "cell_type": "markdown",
      "metadata": {
        "id": "AAouFkR4j8N5"
      },
      "source": [
        "# <center><u> Python basics</u></center>\n",
        "![image.png](attachment:image.png)"
      ]
    },
    {
      "cell_type": "markdown",
      "metadata": {
        "id": "cxx4Bi_Ij8N7"
      },
      "source": [
        "Python is emerging as the popular language used more in data science applications.\n",
        "\n",
        "Take the case of the tech giant Google that has created the deep learning framework called tensorflow – Python is the primary language used for creating this framework. Its footprint has continued to increase in the environment promoted by Netflix. Production engineers at Facebook and Khan Academy have for long been using it as a prominent language in their environment.\n",
        "\n",
        "Python became the most popular language in the data science world.\n",
        "So what are you waiting for? Lets start learning python basic as your first assignment.\n",
        "\n",
        "\n",
        "Add-on Reference: https://youtu.be/HGOBQPFzWKo\n",
        "\n",
        "Add-on reference: https://youtu.be/8DvywoWv6fI\n",
        "\n",
        "\n",
        "## Variable declaration"
      ]
    },
    {
      "cell_type": "markdown",
      "metadata": {
        "id": "6So_SvILj8OC"
      },
      "source": [
        "Covers the topic of variable declaration and type of variables\n",
        "\n",
        "reference:- https://youtu.be/RVYY7zMiPbg\n",
        "\n",
        "<p style='text-align: right;'> 1+1+1+1+1 = 5 points</p>\n"
      ]
    },
    {
      "cell_type": "code",
      "metadata": {
        "id": "__HYN7z3j8OD"
      },
      "source": [
        "# declare two variables, a = 5, b = 'city'\n",
        "a = 5\n",
        "b = 'city'"
      ],
      "execution_count": 98,
      "outputs": []
    },
    {
      "cell_type": "code",
      "metadata": {
        "colab": {
          "base_uri": "https://localhost:8080/"
        },
        "id": "ImZCp8_Sj8OE",
        "outputId": "479edca3-ecfe-48f5-e633-54687ae4602d"
      },
      "source": [
        "# print type of a\n",
        "type(a)"
      ],
      "execution_count": 99,
      "outputs": [
        {
          "output_type": "execute_result",
          "data": {
            "text/plain": [
              "int"
            ]
          },
          "metadata": {},
          "execution_count": 99
        }
      ]
    },
    {
      "cell_type": "code",
      "metadata": {
        "colab": {
          "base_uri": "https://localhost:8080/"
        },
        "id": "wEA-XMbNj8OF",
        "outputId": "e6b05c66-3fe8-4644-dd6f-5f36fff9bd57"
      },
      "source": [
        "# print type of b\n",
        "type(b)"
      ],
      "execution_count": 100,
      "outputs": [
        {
          "output_type": "execute_result",
          "data": {
            "text/plain": [
              "str"
            ]
          },
          "metadata": {},
          "execution_count": 100
        }
      ]
    },
    {
      "cell_type": "code",
      "metadata": {
        "id": "Bg-l4Zduj8OF"
      },
      "source": [
        "# swap the values of a and b\n",
        "temp = a\n",
        "a = b\n",
        "b = temp"
      ],
      "execution_count": 101,
      "outputs": []
    },
    {
      "cell_type": "code",
      "metadata": {
        "colab": {
          "base_uri": "https://localhost:8080/"
        },
        "id": "_tJjolVNj8OG",
        "outputId": "1365ce43-07ce-4029-d635-14ee63c67206"
      },
      "source": [
        "# run this to confirm \n",
        "print(\"a =\",a)\n",
        "print(\"b =\",b)"
      ],
      "execution_count": 102,
      "outputs": [
        {
          "output_type": "stream",
          "name": "stdout",
          "text": [
            "a = city\n",
            "b = 5\n"
          ]
        }
      ]
    },
    {
      "cell_type": "markdown",
      "metadata": {
        "id": "QQw5zOg9j8OH"
      },
      "source": [
        "Cool! so variable declaration and getting it's type was easy."
      ]
    },
    {
      "cell_type": "markdown",
      "metadata": {
        "id": "7solsj1Kj8OH"
      },
      "source": [
        "## Arithmetic Operations"
      ]
    },
    {
      "cell_type": "markdown",
      "metadata": {
        "id": "JkygpF5wj8OI"
      },
      "source": [
        "Hey novice! this will be easy for you until you know basic arithmetic symbols like +, -, /, * etc.\n",
        "\n",
        "reference:- https://youtu.be/0-hzxfkpHy8\n",
        "\n",
        "<p style='text-align: right;'> 1 + 7 = 8 points </p>\n"
      ]
    },
    {
      "cell_type": "code",
      "metadata": {
        "colab": {
          "base_uri": "https://localhost:8080/"
        },
        "id": "7uCzAgUAj8OI",
        "outputId": "4dfb3602-bf22-4973-a8c9-3ab2f850d123"
      },
      "source": [
        "# declare two variables, a = 24, b = 3\n",
        "\n",
        "a = 24\n",
        "b = 3\n",
        "print('a = {}, b = {}'.format(a,b))"
      ],
      "execution_count": 96,
      "outputs": [
        {
          "output_type": "stream",
          "name": "stdout",
          "text": [
            "a = 24, b = 3\n"
          ]
        }
      ]
    },
    {
      "cell_type": "code",
      "metadata": {
        "colab": {
          "base_uri": "https://localhost:8080/"
        },
        "id": "0faSI8kJj8OJ",
        "outputId": "03b97fab-4881-497f-da49-aad9c83cc909"
      },
      "source": [
        "# calculate and print all the possible numerical operations on a and b (There are total 7 operations)\n",
        "print(\"a + b =\",a+b)\n",
        "print(\"a - b =\",a-b)\n",
        "print(\"a * b =\",a*b)\n",
        "print(\"a / b =\",a/b)\n",
        "print(\"a % b =\",a%b)\n",
        "print(\"a // b =\",a//b)\n",
        "print(\"a ^ b =\",a^b)"
      ],
      "execution_count": 97,
      "outputs": [
        {
          "output_type": "stream",
          "name": "stdout",
          "text": [
            "a + b = 27\n",
            "a - b = 21\n",
            "a * b = 72\n",
            "a / b = 8.0\n",
            "a % b = 0\n",
            "a // b = 8\n",
            "a ^ b = 27\n"
          ]
        }
      ]
    },
    {
      "cell_type": "markdown",
      "metadata": {
        "id": "JeixpmEbj8OJ"
      },
      "source": [
        "## Math Functions"
      ]
    },
    {
      "cell_type": "markdown",
      "metadata": {
        "id": "1gTXshgJj8OJ"
      },
      "source": [
        "Lets do some simple mathematical operations by using math module. Math module contains various mathematical functions. So here we go!\n",
        "\n",
        "Reference:- https://youtu.be/gktjNyV0xks\n",
        "\n",
        "Reference document: https://docs.python.org/3/library/math.html\n",
        "<p style='text-align: right;'> 10 points </p>\n",
        "\n",
        "\n"
      ]
    },
    {
      "cell_type": "code",
      "metadata": {
        "id": "SWe30JpSj8OK"
      },
      "source": [
        "import math"
      ],
      "execution_count": 1,
      "outputs": []
    },
    {
      "cell_type": "code",
      "metadata": {
        "id": "MWWbPUgsj8OK"
      },
      "source": [
        "# declare a variable x = 2 and y=5.32167\n",
        "x = 2\n",
        "y = 5.32167"
      ],
      "execution_count": 2,
      "outputs": []
    },
    {
      "cell_type": "code",
      "metadata": {
        "id": "vn17aHSgj8OK",
        "colab": {
          "base_uri": "https://localhost:8080/"
        },
        "outputId": "3a3d1291-fae0-4adc-c1e6-af5f662c624d"
      },
      "source": [
        "# Print the maximum value between x and y\n",
        "print(max(x,y))"
      ],
      "execution_count": 3,
      "outputs": [
        {
          "output_type": "stream",
          "name": "stdout",
          "text": [
            "5.32167\n"
          ]
        }
      ]
    },
    {
      "cell_type": "code",
      "metadata": {
        "id": "v1pswKD9j8OL",
        "colab": {
          "base_uri": "https://localhost:8080/"
        },
        "outputId": "3c45dc43-256c-4b80-fb69-66a02c1b6948"
      },
      "source": [
        "# Print the minimum value between x and y\n",
        "print(min(x,y))"
      ],
      "execution_count": 4,
      "outputs": [
        {
          "output_type": "stream",
          "name": "stdout",
          "text": [
            "2\n"
          ]
        }
      ]
    },
    {
      "cell_type": "code",
      "metadata": {
        "id": "1bWYr9Huj8OL",
        "colab": {
          "base_uri": "https://localhost:8080/"
        },
        "outputId": "f1c90e15-4635-4b5f-abdb-0a1d0f782f30"
      },
      "source": [
        "# Print square and cube of x and store in a and b variable\n",
        "a = pow(x,2)\n",
        "b = pow(x,3)\n",
        "print(a)\n",
        "print(b)"
      ],
      "execution_count": 14,
      "outputs": [
        {
          "output_type": "stream",
          "name": "stdout",
          "text": [
            "4\n",
            "8\n"
          ]
        }
      ]
    },
    {
      "cell_type": "code",
      "metadata": {
        "id": "OVEeEy9xj8OL",
        "colab": {
          "base_uri": "https://localhost:8080/"
        },
        "outputId": "ef735d70-ba57-4a1b-aeda-6baf50ca0312"
      },
      "source": [
        "#print log of x and store it in variable c\n",
        "c = math.log(x)\n",
        "print(c)"
      ],
      "execution_count": 16,
      "outputs": [
        {
          "output_type": "stream",
          "name": "stdout",
          "text": [
            "0.6931471805599453\n"
          ]
        }
      ]
    },
    {
      "cell_type": "code",
      "metadata": {
        "id": "zqGkwQEcj8OM",
        "colab": {
          "base_uri": "https://localhost:8080/"
        },
        "outputId": "11cdfc07-3761-4ee4-cb33-01e2efa22072"
      },
      "source": [
        "#print minimum value between x,y,a, b and c\n",
        "print(min(x,y,a,b,c))"
      ],
      "execution_count": 17,
      "outputs": [
        {
          "output_type": "stream",
          "name": "stdout",
          "text": [
            "0.6931471805599453\n"
          ]
        }
      ]
    },
    {
      "cell_type": "code",
      "metadata": {
        "id": "DvHiFP22j8OM",
        "colab": {
          "base_uri": "https://localhost:8080/"
        },
        "outputId": "dee400e2-3fc1-4a68-dac4-97b129a65a71"
      },
      "source": [
        "#print maximum value between x,y,a, b and c\n",
        "print(max(x,y,a,b,c))"
      ],
      "execution_count": 18,
      "outputs": [
        {
          "output_type": "stream",
          "name": "stdout",
          "text": [
            "8\n"
          ]
        }
      ]
    },
    {
      "cell_type": "code",
      "metadata": {
        "id": "31gLVxAhj8ON",
        "colab": {
          "base_uri": "https://localhost:8080/"
        },
        "outputId": "8e90cb80-ca60-40ac-bbd5-3deedc1d6f4f"
      },
      "source": [
        "#print the largest integer that is smaller than or equal to c. ie.round down\n",
        "print(math.floor(c))"
      ],
      "execution_count": 22,
      "outputs": [
        {
          "output_type": "stream",
          "name": "stdout",
          "text": [
            "0\n"
          ]
        }
      ]
    },
    {
      "cell_type": "code",
      "metadata": {
        "id": "XcEzB7Fnj8ON",
        "colab": {
          "base_uri": "https://localhost:8080/"
        },
        "outputId": "5e296bbf-5759-4ae7-ebf6-e28f077e16bc"
      },
      "source": [
        "#print the smallest integer that is greater than or equal to c ie. round up\n",
        "print(math.ceil(c))"
      ],
      "execution_count": 23,
      "outputs": [
        {
          "output_type": "stream",
          "name": "stdout",
          "text": [
            "1\n"
          ]
        }
      ]
    },
    {
      "cell_type": "markdown",
      "metadata": {
        "id": "DM9kqTCej8ON"
      },
      "source": [
        "## Logical operations\n",
        "\n",
        "You must be aware of some logical operations you did in college, like 'and', 'or', 'not' etc. These operations becomes even more easy to implement when you have friend like python.\n",
        "\n",
        "Reference:- https://youtu.be/9w992l9TFIs\n",
        "\n",
        "<p style='text-align: right;'> 1 + 1 + 1 + 6 = 9 points </p>\n"
      ]
    },
    {
      "cell_type": "code",
      "metadata": {
        "id": "01JIGKtsj8OO",
        "colab": {
          "base_uri": "https://localhost:8080/"
        },
        "outputId": "eb0b8bfa-b7c9-410b-db8c-0b5deaab280d"
      },
      "source": [
        "# declare two variables, a = True, b = False\n",
        "a = True\n",
        "b = False\n",
        "print(a)\n",
        "print(b)"
      ],
      "execution_count": 24,
      "outputs": [
        {
          "output_type": "stream",
          "name": "stdout",
          "text": [
            "True\n",
            "False\n"
          ]
        }
      ]
    },
    {
      "cell_type": "code",
      "metadata": {
        "id": "mc3X5_k2j8OO",
        "colab": {
          "base_uri": "https://localhost:8080/"
        },
        "outputId": "327331ae-25c9-4fbe-8003-9bf8b3efad5d"
      },
      "source": [
        "# print type of a and type of b\n",
        "type(a)\n",
        "type(b)"
      ],
      "execution_count": 25,
      "outputs": [
        {
          "output_type": "execute_result",
          "data": {
            "text/plain": [
              "bool"
            ]
          },
          "metadata": {},
          "execution_count": 25
        }
      ]
    },
    {
      "cell_type": "markdown",
      "metadata": {
        "id": "mmX-vTD1j8OO"
      },
      "source": [
        "A fun fact for you !\n",
        "The Python Boolean type is one of Python's built-in data types. It's used to represent the truth value of an expression"
      ]
    },
    {
      "cell_type": "code",
      "metadata": {
        "id": "vXACL47Dj8OP",
        "colab": {
          "base_uri": "https://localhost:8080/"
        },
        "outputId": "cc3ca054-8b68-46e7-c30f-bda9c728b4a9"
      },
      "source": [
        "# print int(a) and int(b)\n",
        "print(\"int of a is {}\".format(int(a)))\n",
        "print(\"int of b is {}\".format(int(b)))"
      ],
      "execution_count": 27,
      "outputs": [
        {
          "output_type": "stream",
          "name": "stdout",
          "text": [
            "int of a is 1\n",
            "int of b is 0\n"
          ]
        }
      ]
    },
    {
      "cell_type": "markdown",
      "metadata": {
        "id": "Wg4MnY_tj8OP"
      },
      "source": [
        "We are sure you must have seen that, values for 'True' is 1 and for 'False' is 0."
      ]
    },
    {
      "cell_type": "code",
      "metadata": {
        "id": "JPd28LmGj8OP",
        "colab": {
          "base_uri": "https://localhost:8080/"
        },
        "outputId": "d86e9825-f2c3-43f0-b221-db3a74adedcc"
      },
      "source": [
        "# Find and print the values of not a, not b, a and b, a or b, a and not b\n",
        "print(\"not a = {}\".format(not a))\n",
        "print(\"not b = {}\".format(not b))\n",
        "print(\"a and b = {}\".format(a and b))\n",
        "print(\"a or b = {}\".format(a or b))\n",
        "print(\"not a and not b = {}\".format(a and not b))"
      ],
      "execution_count": 29,
      "outputs": [
        {
          "output_type": "stream",
          "name": "stdout",
          "text": [
            "not a = False\n",
            "not b = True\n",
            "a and b = False\n",
            "a or b = True\n",
            "not a and not b = True\n"
          ]
        }
      ]
    },
    {
      "cell_type": "markdown",
      "metadata": {
        "id": "tFbF4uedj8OP"
      },
      "source": [
        "We hope you tried to undertand the above output! "
      ]
    },
    {
      "cell_type": "markdown",
      "metadata": {
        "id": "dBMzzELrj8OP"
      },
      "source": [
        "## List Comprehensions\n",
        "\n",
        "Hey buddy! Python has really amazing thing called list comprehension. List comprehension offers a shorter syntax when you want to create a new list based on the values of an existing list. Cool right? Let's dive into this more by doing it. \n",
        "\n",
        "Reference:- https://youtu.be/17gTGqHG5xQ\n",
        "\n",
        "<p style='text-align: right;'> 10 + 10 + 10= 30 points </p>\n",
        "\n"
      ]
    },
    {
      "cell_type": "code",
      "metadata": {
        "id": "bvjJAsuPj8OQ",
        "colab": {
          "base_uri": "https://localhost:8080/"
        },
        "outputId": "88c68b3e-1a47-4552-da24-e9712f84b5f3"
      },
      "source": [
        "# Using list comprehension, create a list containing numbers from 1 to 20. \n",
        "# Hint: You can use range function of python to do this.\n",
        "x = [i for i in range(1,21)]\n",
        "print(x)"
      ],
      "execution_count": 94,
      "outputs": [
        {
          "output_type": "stream",
          "name": "stdout",
          "text": [
            "[1, 2, 3, 4, 5, 6, 7, 8, 9, 10, 11, 12, 13, 14, 15, 16, 17, 18, 19, 20]\n"
          ]
        }
      ]
    },
    {
      "cell_type": "code",
      "metadata": {
        "id": "B1LTJf9Xj8OQ",
        "colab": {
          "base_uri": "https://localhost:8080/"
        },
        "outputId": "00f1ae62-cc47-4472-ff77-69fbd8fc41a0"
      },
      "source": [
        "# Using list comprehension, create a list containing numbers from 1 to 20 that are even\n",
        "y = [i for i in range(1,21) if i%2==0]\n",
        "print(y)"
      ],
      "execution_count": 95,
      "outputs": [
        {
          "output_type": "stream",
          "name": "stdout",
          "text": [
            "[2, 4, 6, 8, 10, 12, 14, 16, 18, 20]\n"
          ]
        }
      ]
    },
    {
      "cell_type": "markdown",
      "metadata": {
        "id": "WHnZA1dsj8OQ"
      },
      "source": [
        "Create a list of all the fruits you like. Using list comprehension, create another list which contains the total number of charachters for each corresponding fruits.\n",
        "- Eg. fruits = [‘apple’,’kiwi’,’orange’], then output would be - [5,4,6]\n"
      ]
    },
    {
      "cell_type": "code",
      "metadata": {
        "id": "m4A1XS-xj8OR",
        "colab": {
          "base_uri": "https://localhost:8080/"
        },
        "outputId": "38a5ed2d-c775-4c5f-a39b-b175f7c9f6ab"
      },
      "source": [
        "fruits = ['apple','kiwi','orange']\n",
        "len_fruits =  len(fruits)\n",
        "\n",
        "print(fruits)\n",
        "print(len_fruits)"
      ],
      "execution_count": 105,
      "outputs": [
        {
          "output_type": "stream",
          "name": "stdout",
          "text": [
            "['apple', 'kiwi', 'orange']\n",
            "3\n"
          ]
        }
      ]
    },
    {
      "cell_type": "markdown",
      "metadata": {
        "id": "AEJkGQ4Mj8OR"
      },
      "source": [
        "The above output is shown if fruits = ['apple','kiwi,'orange'], it can vary for different values of fruits\n",
        "\n",
        "Amazing right?\n"
      ]
    },
    {
      "cell_type": "markdown",
      "metadata": {
        "id": "hlgNRkccj8OR"
      },
      "source": [
        "## String value and operators\n",
        "\n",
        "<p style='text-align: right;'> 1 + 1 + 1 + 1 + 1 = 5 points </p>\n"
      ]
    },
    {
      "cell_type": "markdown",
      "metadata": {
        "id": "aSsJJsy1j8OR"
      },
      "source": [
        "### Characters in strings\n",
        "\n",
        "\n",
        "Reference:- https://www.programiz.com/python-programming/string\n",
        "\n",
        "Reference:-  https://youtu.be/LnQDWIMaJlA\n"
      ]
    },
    {
      "cell_type": "code",
      "metadata": {
        "id": "pzkojkD0j8OS",
        "colab": {
          "base_uri": "https://localhost:8080/"
        },
        "outputId": "8a146b09-e9a9-403b-ddfe-bbe7d337ce90"
      },
      "source": [
        "# declare the variables x = cat and y = dog and print it\n",
        "x =  \"cat\"\n",
        "y = \"dog\"\n",
        "\n",
        "print(x)\n",
        "print(y)"
      ],
      "execution_count": 77,
      "outputs": [
        {
          "output_type": "stream",
          "name": "stdout",
          "text": [
            "cat\n",
            "dog\n"
          ]
        }
      ]
    },
    {
      "cell_type": "code",
      "metadata": {
        "id": "VeptINPMj8OS",
        "colab": {
          "base_uri": "https://localhost:8080/"
        },
        "outputId": "454df743-bbeb-466b-ab57-2b3e1592cc6d"
      },
      "source": [
        "#Print first character of both x and y. \n",
        "print(\"First ch of x =\",x[0])\n",
        "print(\"First ch of y =\",y[0])"
      ],
      "execution_count": 79,
      "outputs": [
        {
          "output_type": "stream",
          "name": "stdout",
          "text": [
            "First ch of x = c\n",
            "First ch of y = d\n"
          ]
        }
      ]
    },
    {
      "cell_type": "code",
      "metadata": {
        "id": "rYh_0XCHj8OS",
        "colab": {
          "base_uri": "https://localhost:8080/"
        },
        "outputId": "ee0a617d-912b-496d-902a-5273f961e33c"
      },
      "source": [
        "#Print last character of both x and y.\n",
        "print(\"Last ch of x =\",x[-1])\n",
        "print(\"Last ch of y =\",y[-1])"
      ],
      "execution_count": 81,
      "outputs": [
        {
          "output_type": "stream",
          "name": "stdout",
          "text": [
            "Last ch of x = t\n",
            "Last ch of y = g\n"
          ]
        }
      ]
    },
    {
      "cell_type": "code",
      "metadata": {
        "id": "RbBMZreRj8OS",
        "colab": {
          "base_uri": "https://localhost:8080/"
        },
        "outputId": "de559694-cbfb-41cb-eda9-570582e84b37"
      },
      "source": [
        "#Print len of both x and y\n",
        "print(\"Lenght of x is\",len(x))\n",
        "print(\"Lenght of y is\",len(y))"
      ],
      "execution_count": 82,
      "outputs": [
        {
          "output_type": "stream",
          "name": "stdout",
          "text": [
            "Lenght of x is 3\n",
            "Lenght of y is 3\n"
          ]
        }
      ]
    },
    {
      "cell_type": "code",
      "metadata": {
        "id": "fHG_7kR9j8OT",
        "colab": {
          "base_uri": "https://localhost:8080/"
        },
        "outputId": "2049ef82-6380-4999-bdb2-2fe2e9e2b48a"
      },
      "source": [
        "#concatenate both x and y and store it in variable z and print z\n",
        "z = x+y\n",
        "print(z)"
      ],
      "execution_count": 83,
      "outputs": [
        {
          "output_type": "stream",
          "name": "stdout",
          "text": [
            "catdog\n"
          ]
        }
      ]
    },
    {
      "cell_type": "code",
      "metadata": {
        "id": "SbuKRYsGj8OT",
        "colab": {
          "base_uri": "https://localhost:8080/"
        },
        "outputId": "08219998-699d-45a2-db5a-1414eae59dc7"
      },
      "source": [
        "#check if x is part of z \n",
        "if x in z:\n",
        "  print(True)\n",
        "else:\n",
        "  print(False)"
      ],
      "execution_count": 86,
      "outputs": [
        {
          "output_type": "stream",
          "name": "stdout",
          "text": [
            "True\n"
          ]
        }
      ]
    },
    {
      "cell_type": "markdown",
      "metadata": {
        "id": "eaUlhPVpj8OT"
      },
      "source": [
        "### String slicing\n",
        "\n",
        "\n",
        "\n",
        "Hey coder, do you know? Python slicing is about obtaining a sub-string from the given string by slicing it respectively from start to end\n",
        "\n",
        "So be ready to implement it today!\n",
        "<p style='text-align: right;'> 2 points </p>"
      ]
    },
    {
      "cell_type": "code",
      "metadata": {
        "id": "xblYG4C6j8OT",
        "colab": {
          "base_uri": "https://localhost:8080/"
        },
        "outputId": "b02ba15f-d746-4f22-cdd9-a99e8f3c1661"
      },
      "source": [
        "#Create variable a = “pineapple”\n",
        "a = \"pineapple\"\n",
        "print(a)"
      ],
      "execution_count": 87,
      "outputs": [
        {
          "output_type": "stream",
          "name": "stdout",
          "text": [
            "pineapple\n"
          ]
        }
      ]
    },
    {
      "cell_type": "code",
      "metadata": {
        "id": "XXdQu472j8OT",
        "colab": {
          "base_uri": "https://localhost:8080/"
        },
        "outputId": "006cddbe-74a8-4e3e-e580-80d6a3dab8b7"
      },
      "source": [
        "# Using index slicing, print the words ‘pine’ and “apple”.\n",
        "# HINT - a[:]\n",
        "print(a[:4])\n",
        "print(a[4:])"
      ],
      "execution_count": 90,
      "outputs": [
        {
          "output_type": "stream",
          "name": "stdout",
          "text": [
            "pine\n",
            "apple\n"
          ]
        }
      ]
    },
    {
      "cell_type": "code",
      "metadata": {
        "id": "fVd2B7Scj8OU",
        "colab": {
          "base_uri": "https://localhost:8080/"
        },
        "outputId": "96a0bf82-64c4-4638-cd51-a01816abcd47"
      },
      "source": [
        "#Convert a into upper case\n",
        "print(a.upper())"
      ],
      "execution_count": 91,
      "outputs": [
        {
          "output_type": "stream",
          "name": "stdout",
          "text": [
            "PINEAPPLE\n"
          ]
        }
      ]
    },
    {
      "cell_type": "markdown",
      "metadata": {
        "id": "ggquv72Gj8OU"
      },
      "source": [
        "## Dealing with Sentences\n",
        "\n",
        "<p style='text-align: right;'> 1+1+1+1+1+1 = 6 points </p>\n"
      ]
    },
    {
      "cell_type": "code",
      "metadata": {
        "id": "9JOOnL5Yj8OU",
        "colab": {
          "base_uri": "https://localhost:8080/"
        },
        "outputId": "c968d072-7aa9-405c-c267-3eeddf4ced73"
      },
      "source": [
        "# Declare a sentence of ‘I am flying to London’ and print it\n",
        "a = \"I am flying to London\"\n",
        "print(a)"
      ],
      "execution_count": 63,
      "outputs": [
        {
          "output_type": "stream",
          "name": "stdout",
          "text": [
            "I am flying to London\n"
          ]
        }
      ]
    },
    {
      "cell_type": "code",
      "metadata": {
        "id": "nLMq6FYxj8OU",
        "colab": {
          "base_uri": "https://localhost:8080/"
        },
        "outputId": "fbe6f923-ec7f-443a-8c9e-25aebe4935ce"
      },
      "source": [
        "#Print length of the sentence\n",
        "print(\"Len of sentence is {}\".format(len(a)))"
      ],
      "execution_count": 66,
      "outputs": [
        {
          "output_type": "stream",
          "name": "stdout",
          "text": [
            "Len of sentence is 21\n"
          ]
        }
      ]
    },
    {
      "cell_type": "code",
      "metadata": {
        "id": "4xLh-psxj8OU",
        "colab": {
          "base_uri": "https://localhost:8080/"
        },
        "outputId": "64e3ec1d-2ba8-48c4-9ef0-025e4442b4bc"
      },
      "source": [
        "#Using list indexing, to print the word London\n",
        "print(a[-6:])"
      ],
      "execution_count": 69,
      "outputs": [
        {
          "output_type": "stream",
          "name": "stdout",
          "text": [
            "London\n"
          ]
        }
      ]
    },
    {
      "cell_type": "code",
      "metadata": {
        "id": "AjviXm3Sj8OU",
        "colab": {
          "base_uri": "https://localhost:8080/"
        },
        "outputId": "3c760244-3c11-436a-f014-b43af6199912"
      },
      "source": [
        "# Use .split to get list of individual words in the sentence\n",
        "print(a.split(\" \"))"
      ],
      "execution_count": 70,
      "outputs": [
        {
          "output_type": "stream",
          "name": "stdout",
          "text": [
            "['I', 'am', 'flying', 'to', 'London']\n"
          ]
        }
      ]
    },
    {
      "cell_type": "code",
      "metadata": {
        "id": "MGjXgX1vj8OV",
        "colab": {
          "base_uri": "https://localhost:8080/"
        },
        "outputId": "2c311061-0dfa-4dfe-b9be-49a7fd3f16e4"
      },
      "source": [
        "# Convert sentence in lower case \n",
        "b= a.lower()\n",
        "print(b)"
      ],
      "execution_count": 75,
      "outputs": [
        {
          "output_type": "stream",
          "name": "stdout",
          "text": [
            "i am flying to london\n"
          ]
        }
      ]
    },
    {
      "cell_type": "code",
      "metadata": {
        "id": "T2iCAS_jj8OV",
        "colab": {
          "base_uri": "https://localhost:8080/"
        },
        "outputId": "406f6aba-03dd-4b8d-837b-60565699464b"
      },
      "source": [
        "# Convert sentence in upper case .\n",
        "print(b.upper())"
      ],
      "execution_count": 76,
      "outputs": [
        {
          "output_type": "stream",
          "name": "stdout",
          "text": [
            "I AM FLYING TO LONDON\n"
          ]
        }
      ]
    },
    {
      "cell_type": "markdown",
      "metadata": {
        "id": "GfzzWxfJj8OV"
      },
      "source": [
        "Great job! Slicing is fun."
      ]
    },
    {
      "cell_type": "markdown",
      "metadata": {
        "id": "tsmdfP9Yj8OV"
      },
      "source": [
        "## Functions\n",
        "\n",
        "Declare a function named square, which takes an input as x, and returns the square of x.\n",
        "\n",
        "Reference:- https://youtu.be/Rpq9MC67M08\n",
        "\n",
        "<p style='text-align: right;'> 5 + 3 = 8 points </p>\n"
      ]
    },
    {
      "cell_type": "code",
      "metadata": {
        "id": "VB8xKiSej8OV"
      },
      "source": [
        "def square(x):\n",
        "    return x**2\n",
        "    "
      ],
      "execution_count": 108,
      "outputs": []
    },
    {
      "cell_type": "markdown",
      "metadata": {
        "id": "WFwznL7sj8OW"
      },
      "source": [
        "Call the function to find the value of square of 9."
      ]
    },
    {
      "cell_type": "code",
      "metadata": {
        "id": "UpIeSx-bj8OW",
        "colab": {
          "base_uri": "https://localhost:8080/"
        },
        "outputId": "f3dcdf7c-53c7-4424-f019-3a1bc451a975"
      },
      "source": [
        "# find the square of 9 using the function square you have just created.\n",
        "a= square(9)\n",
        "print(\"Square of 9 is {}\".format(a))"
      ],
      "execution_count": 110,
      "outputs": [
        {
          "output_type": "stream",
          "name": "stdout",
          "text": [
            "Square of 9 is 81\n"
          ]
        }
      ]
    },
    {
      "cell_type": "markdown",
      "metadata": {
        "id": "S02rgrk7j8OW"
      },
      "source": [
        "Wohoo! see, defining function was simple"
      ]
    },
    {
      "cell_type": "markdown",
      "metadata": {
        "id": "QMd2Q_b6j8OW"
      },
      "source": [
        "#### Define another function which checks whether a given is number is odd or even for a given input and it should print whether the  number is odd or even as an output\n",
        "<p style='text-align: right;'> 5 + 3 = 8 points </p>\n"
      ]
    },
    {
      "cell_type": "code",
      "metadata": {
        "id": "J3H9w35Cj8OW"
      },
      "source": [
        "# your code here\n",
        "def num(a):\n",
        "  if a%2==0:\n",
        "    return \"even\"\n",
        "  else:\n",
        "    return \"odd\""
      ],
      "execution_count": 111,
      "outputs": []
    },
    {
      "cell_type": "markdown",
      "metadata": {
        "id": "T6WN_r0ij8OW"
      },
      "source": [
        "Hey smarty! lets use both the functions together to check whether the square of 3,6 and 21 are odd or even.\n"
      ]
    },
    {
      "cell_type": "code",
      "metadata": {
        "id": "teqUQGcYj8OW",
        "colab": {
          "base_uri": "https://localhost:8080/"
        },
        "outputId": "2a410d8c-f699-4952-950d-8f44dfcf42b4"
      },
      "source": [
        " # your code here\n",
        "l = square(3)\n",
        "m = square(6)\n",
        "n = square(21)\n",
        "p= num(l)\n",
        "q=num(m)\n",
        "r=num(n)\n",
        "print(\"{} is {}\".format(l,p))\n",
        "print(\"{} is {}\".format(m,q))\n",
        "print(\"{} is {}\".format(n,r))"
      ],
      "execution_count": 118,
      "outputs": [
        {
          "output_type": "stream",
          "name": "stdout",
          "text": [
            "9 is odd\n",
            "36 is even\n",
            "441 is odd\n"
          ]
        }
      ]
    },
    {
      "cell_type": "markdown",
      "metadata": {
        "id": "iRuK5KK8j8OX"
      },
      "source": [
        "hey hey! You did a great code. Did you see the benefit of using functions"
      ]
    },
    {
      "cell_type": "markdown",
      "metadata": {
        "id": "K8rGvgQRj8OX"
      },
      "source": [
        "# Loops and Iterations\n",
        "Reference:- https://youtu.be/6iF8Xb7Z3wQ"
      ]
    },
    {
      "cell_type": "markdown",
      "metadata": {
        "id": "BhKQKpPoj8OX"
      },
      "source": [
        "## If statement\n",
        "\n",
        "<p style='text-align: right;'> 1 + 2 + 3 = 6 points </p>\n"
      ]
    },
    {
      "cell_type": "code",
      "metadata": {
        "id": "IyS7TmmJj8OX",
        "colab": {
          "base_uri": "https://localhost:8080/"
        },
        "outputId": "2dac33bd-68a6-460b-e60c-b40147283cf4"
      },
      "source": [
        "#Declare a variable x equal to a number of your choice.\n",
        "#your code here\n",
        "x =  7\n",
        "print(x)"
      ],
      "execution_count": 38,
      "outputs": [
        {
          "output_type": "stream",
          "name": "stdout",
          "text": [
            "7\n"
          ]
        }
      ]
    },
    {
      "cell_type": "code",
      "metadata": {
        "id": "ce1eEkVbj8OX",
        "colab": {
          "base_uri": "https://localhost:8080/"
        },
        "outputId": "8dd0693e-9931-4bcf-d398-0837caf4ed96"
      },
      "source": [
        "#Using an if statement, print whether x is zero, positive or negative.\n",
        "if(x==0):\n",
        "  print(x,\"is zero\")\n",
        "elif(x>0):\n",
        "  print(x,\"is positive\")\n",
        "else:\n",
        "  print(x,\"is negative\")"
      ],
      "execution_count": 39,
      "outputs": [
        {
          "output_type": "stream",
          "name": "stdout",
          "text": [
            "7 is positive\n"
          ]
        }
      ]
    },
    {
      "cell_type": "code",
      "metadata": {
        "id": "5Br-051fj8OX",
        "colab": {
          "base_uri": "https://localhost:8080/"
        },
        "outputId": "2c800e0d-4270-47a0-9ed5-e9a3ccba4bd0"
      },
      "source": [
        "# Now Define a function, which takes input from the user and prints whether the given input is zero,positive or negative.\n",
        "def check_num(x):\n",
        "  if(x==0):\n",
        "    print(x,\"is zero\")\n",
        "  elif(x>0):\n",
        "    print(x,\"is positive\")\n",
        "  else:\n",
        "    print(x, \"is negative\")\n",
        "\n",
        "check_num(10)\n",
        "check_num(-2)\n",
        "check_num(0)"
      ],
      "execution_count": 41,
      "outputs": [
        {
          "output_type": "stream",
          "name": "stdout",
          "text": [
            "10 is positive\n",
            "-2 is negative\n",
            "0 is zero\n"
          ]
        }
      ]
    },
    {
      "cell_type": "markdown",
      "metadata": {
        "id": "Se0evVvZj8OY"
      },
      "source": [
        "## For loop"
      ]
    },
    {
      "cell_type": "markdown",
      "metadata": {
        "id": "v88ze7dPj8OY"
      },
      "source": [
        "<p style='text-align: right;'> 2 points </p>\n"
      ]
    },
    {
      "cell_type": "code",
      "metadata": {
        "id": "cKWdzoAYj8OY"
      },
      "source": [
        "#Create a list x, such that it contains the elements - ‘India’, ‘Israel’,’Canada’.\n",
        "x = ['India','Israel','Canada']"
      ],
      "execution_count": 42,
      "outputs": []
    },
    {
      "cell_type": "code",
      "metadata": {
        "id": "aRiBkj1nj8OY",
        "colab": {
          "base_uri": "https://localhost:8080/"
        },
        "outputId": "c3b40a7b-45dd-49d0-ae5b-31793d78c66d"
      },
      "source": [
        "#Using For loop, iterate over the list and print the elements.\n",
        "for i in x:\n",
        "  print(i)"
      ],
      "execution_count": 43,
      "outputs": [
        {
          "output_type": "stream",
          "name": "stdout",
          "text": [
            "India\n",
            "Israel\n",
            "Canada\n"
          ]
        }
      ]
    },
    {
      "cell_type": "markdown",
      "metadata": {
        "id": "eMo70y6wj8OY"
      },
      "source": [
        "<p style='text-align: right;'> 2 points </p>\n"
      ]
    },
    {
      "cell_type": "code",
      "metadata": {
        "id": "WD0gLzVNj8OY",
        "colab": {
          "base_uri": "https://localhost:8080/"
        },
        "outputId": "27adb80b-d85b-4e43-b950-684c44a7c72f"
      },
      "source": [
        "# Using For loop, print the table of 2.\n",
        "for i in range(2,11):\n",
        "  print(\"2 * {} = {}\".format(i,i*2))\n"
      ],
      "execution_count": 45,
      "outputs": [
        {
          "output_type": "stream",
          "name": "stdout",
          "text": [
            "2 * 2 = 4\n",
            "2 * 3 = 6\n",
            "2 * 4 = 8\n",
            "2 * 5 = 10\n",
            "2 * 6 = 12\n",
            "2 * 7 = 14\n",
            "2 * 8 = 16\n",
            "2 * 9 = 18\n",
            "2 * 10 = 20\n"
          ]
        }
      ]
    },
    {
      "cell_type": "markdown",
      "metadata": {
        "id": "_DdnaR2gj8OZ"
      },
      "source": [
        "For a given list, x = [21, ‘hello,’cream’, 20,19,’village’], using for loop to iterate over the items and using - if statement print the items that are of type int"
      ]
    },
    {
      "cell_type": "code",
      "metadata": {
        "id": "L5jDPYuGj8OZ",
        "colab": {
          "base_uri": "https://localhost:8080/"
        },
        "outputId": "7bc869f6-0c52-4e64-da52-30c7c64e3480"
      },
      "source": [
        "#code here\n",
        "x = [21, 'hello','cream', 20,19,'village']\n",
        "for i in x:\n",
        "  if type(i)==int:\n",
        "    print(i,end =\" \")"
      ],
      "execution_count": 51,
      "outputs": [
        {
          "output_type": "stream",
          "name": "stdout",
          "text": [
            "21 20 19 "
          ]
        }
      ]
    },
    {
      "cell_type": "markdown",
      "metadata": {
        "id": "9udecXoUj8OZ"
      },
      "source": [
        "Using For loop, lets create a pattern. "
      ]
    },
    {
      "cell_type": "markdown",
      "metadata": {
        "id": "cmpfBO3lj8OZ"
      },
      "source": [
        "<p style='text-align: right;'> 10 points </p>\n"
      ]
    },
    {
      "cell_type": "code",
      "metadata": {
        "id": "Nam1T91lj8OZ",
        "colab": {
          "base_uri": "https://localhost:8080/"
        },
        "outputId": "6b0034fb-717a-4a23-90ee-fe0ab4526728"
      },
      "source": [
        "# print the following pattern\n",
        "for i in range(0, 5):\n",
        "  for _ in range(0, i+1):\n",
        "    print(\"* \",end=\"\")\n",
        "  print(\"\\r\")"
      ],
      "execution_count": 62,
      "outputs": [
        {
          "output_type": "stream",
          "name": "stdout",
          "text": [
            "* \r\n",
            "* * \r\n",
            "* * * \r\n",
            "* * * * \r\n",
            "* * * * * \r\n"
          ]
        }
      ]
    },
    {
      "cell_type": "markdown",
      "metadata": {
        "id": "wiZQZEOzj8OZ"
      },
      "source": [
        "## While loop"
      ]
    },
    {
      "cell_type": "markdown",
      "metadata": {
        "id": "AUkEUrR4j8Oa"
      },
      "source": [
        "- Using while loop make a function that prints all the values between 1 to n. "
      ]
    },
    {
      "cell_type": "markdown",
      "metadata": {
        "id": "HAOir664j8Oa"
      },
      "source": [
        "<p style='text-align: right;'> 10 points </p>\n"
      ]
    },
    {
      "cell_type": "code",
      "metadata": {
        "id": "NGpHsv9hj8Oa"
      },
      "source": [
        "def counter(n):\n",
        " # add your code here\n",
        " i=1\n",
        " while i<=n:\n",
        "    print(i)\n",
        "    i+=1\n",
        "    "
      ],
      "execution_count": 134,
      "outputs": []
    },
    {
      "cell_type": "code",
      "metadata": {
        "id": "Sc__Ydd1j8Oa",
        "colab": {
          "base_uri": "https://localhost:8080/"
        },
        "outputId": "d8f51f32-696a-484c-ad03-0de419a4c10b"
      },
      "source": [
        "counter(10) #this should print numbers from 1 to 10"
      ],
      "execution_count": 135,
      "outputs": [
        {
          "output_type": "stream",
          "name": "stdout",
          "text": [
            "1\n",
            "2\n",
            "3\n",
            "4\n",
            "5\n",
            "6\n",
            "7\n",
            "8\n",
            "9\n",
            "10\n"
          ]
        }
      ]
    },
    {
      "cell_type": "markdown",
      "metadata": {
        "id": "4mJGN4CVj8Oa"
      },
      "source": [
        "### Write the code for the following, what is the output obtained?\n",
        "- Set a variable flag = True, num = 5\n",
        "- Run a while loop till flag = True\n",
        "- Inside the while loop - \n",
        "    - Increment the value of num by 5\n",
        "    - If value of num is greater then 50, set flag to be False"
      ]
    },
    {
      "cell_type": "code",
      "metadata": {
        "id": "LvJGmfyfj8Oa",
        "colab": {
          "base_uri": "https://localhost:8080/"
        },
        "outputId": "45277eca-5065-4994-b36a-d25690cf1a0a"
      },
      "source": [
        "# your code here\n",
        "flag = True\n",
        "num = 5\n",
        "while flag:\n",
        "  num +=5\n",
        "  print(num)\n",
        "  if num >= 50:\n",
        "    flag = False"
      ],
      "execution_count": 143,
      "outputs": [
        {
          "output_type": "stream",
          "name": "stdout",
          "text": [
            "10\n",
            "15\n",
            "20\n",
            "25\n",
            "30\n",
            "35\n",
            "40\n",
            "45\n",
            "50\n"
          ]
        }
      ]
    },
    {
      "cell_type": "markdown",
      "metadata": {
        "id": "uRPYEBySj8Oa"
      },
      "source": [
        "Awsesome! Great job so far. Hope you fell in love with python now."
      ]
    },
    {
      "cell_type": "markdown",
      "metadata": {
        "id": "vprH7sEQj8Ob"
      },
      "source": [
        "----------------------------------------------------------------------"
      ]
    },
    {
      "cell_type": "markdown",
      "metadata": {
        "id": "dbYdj0FPj8Ob"
      },
      "source": [
        "# Smile, you completed the first milestone :)!! "
      ]
    },
    {
      "cell_type": "markdown",
      "metadata": {
        "id": "wYGlcOpej8Ob"
      },
      "source": [
        "# Its Feedback Time!\n",
        "\n",
        "We hope you’ve enjoyed this course so far. We’re committed to help you use \"AI for All\" course to its full potential, so that you have a great learning experience. And that’s why we need your help in form of a feedback here.\n",
        "\n",
        "**Please fill this feedback form**\n",
        " https://zfrmz.in/MtRG5oWXBdesm6rmSM7N\n",
        " \n",
        "-------------------------------------\n",
        " "
      ]
    }
  ]
}