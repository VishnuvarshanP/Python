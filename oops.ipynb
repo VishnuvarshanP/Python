{
  "nbformat": 4,
  "nbformat_minor": 0,
  "metadata": {
    "colab": {
      "name": "oops.ipynb",
      "provenance": [],
      "collapsed_sections": []
    },
    "kernelspec": {
      "name": "python3",
      "display_name": "Python 3"
    },
    "language_info": {
      "name": "python"
    }
  },
  "cells": [
    {
      "cell_type": "code",
      "metadata": {
        "id": "aNBqi6QjXbbY"
      },
      "source": [
        "#class is a blueprint of the building\n",
        "#object is the building\n",
        "#class = car properties #object = which brand car\n",
        "i=10"
      ],
      "execution_count": null,
      "outputs": []
    },
    {
      "cell_type": "code",
      "metadata": {
        "colab": {
          "base_uri": "https://localhost:8080/"
        },
        "id": "3caxNIrsbLxa",
        "outputId": "c4b0ca69-8473-4cb3-8ca6-c477009788f7"
      },
      "source": [
        "print(type(i))"
      ],
      "execution_count": null,
      "outputs": [
        {
          "output_type": "stream",
          "name": "stdout",
          "text": [
            "<class 'int'>\n"
          ]
        }
      ]
    },
    {
      "cell_type": "code",
      "metadata": {
        "id": "jg88MsxKbdb1"
      },
      "source": [
        "class test:\n",
        "  pass       #no definition for test class"
      ],
      "execution_count": null,
      "outputs": []
    },
    {
      "cell_type": "code",
      "metadata": {
        "id": "JxXNVfVjcNT6"
      },
      "source": [
        "class person:\n",
        "  pass"
      ],
      "execution_count": null,
      "outputs": []
    },
    {
      "cell_type": "code",
      "metadata": {
        "id": "rhXynRQ0crce"
      },
      "source": [
        "p=person #object"
      ],
      "execution_count": null,
      "outputs": []
    },
    {
      "cell_type": "code",
      "metadata": {
        "colab": {
          "base_uri": "https://localhost:8080/"
        },
        "id": "RLaaC1k1c-9z",
        "outputId": "e1945b0d-b430-4b79-a0bb-1bda9ec8051d"
      },
      "source": [
        "p"
      ],
      "execution_count": null,
      "outputs": [
        {
          "output_type": "execute_result",
          "data": {
            "text/plain": [
              "__main__.person"
            ]
          },
          "metadata": {},
          "execution_count": 6
        }
      ]
    },
    {
      "cell_type": "code",
      "metadata": {
        "colab": {
          "base_uri": "https://localhost:8080/"
        },
        "id": "KJiRxX96c_Se",
        "outputId": "46b7c590-ddae-4ed0-d8e6-3ac9f15ee2a5"
      },
      "source": [
        "type(p)"
      ],
      "execution_count": null,
      "outputs": [
        {
          "output_type": "execute_result",
          "data": {
            "text/plain": [
              "type"
            ]
          },
          "metadata": {},
          "execution_count": 7
        }
      ]
    },
    {
      "cell_type": "code",
      "metadata": {
        "colab": {
          "base_uri": "https://localhost:8080/"
        },
        "id": "lDIzDlc0dJuR",
        "outputId": "66b0137a-0047-4028-b7e9-062f5cba5e9b"
      },
      "source": [
        "print(p)"
      ],
      "execution_count": null,
      "outputs": [
        {
          "output_type": "stream",
          "name": "stdout",
          "text": [
            "<class '__main__.person'>\n"
          ]
        }
      ]
    },
    {
      "cell_type": "code",
      "metadata": {
        "id": "_DqfhWBsdI_5"
      },
      "source": [
        "#setting attributes for the person class\n",
        "p.fname = 'vishnu'\n",
        "p.lname = 'varshan'\n",
        "p.yob = 14022000"
      ],
      "execution_count": null,
      "outputs": []
    },
    {
      "cell_type": "code",
      "metadata": {
        "id": "CTjsZ3XDdIwA"
      },
      "source": [
        "a = person\n",
        "a.name = 'abc'\n",
        "a.yob = 13022000\n",
        "a.expno = 1928282"
      ],
      "execution_count": null,
      "outputs": []
    },
    {
      "cell_type": "code",
      "metadata": {
        "id": "CFoFWux6dImJ"
      },
      "source": [
        "#a and p can have different properties"
      ],
      "execution_count": null,
      "outputs": []
    },
    {
      "cell_type": "code",
      "metadata": {
        "colab": {
          "base_uri": "https://localhost:8080/",
          "height": 35
        },
        "id": "epvQ5IIhfWDb",
        "outputId": "44c0eb21-d7ac-4234-b8f0-a09d1e482097"
      },
      "source": [
        "#extracting data\n",
        "p.fname"
      ],
      "execution_count": null,
      "outputs": [
        {
          "output_type": "execute_result",
          "data": {
            "application/vnd.google.colaboratory.intrinsic+json": {
              "type": "string"
            },
            "text/plain": [
              "'vishnu'"
            ]
          },
          "metadata": {},
          "execution_count": 12
        }
      ]
    },
    {
      "cell_type": "code",
      "metadata": {
        "colab": {
          "base_uri": "https://localhost:8080/"
        },
        "id": "QhhKi62-fb8q",
        "outputId": "de1d84e2-a59b-4ba2-ad08-42c3c3487f33"
      },
      "source": [
        "a.yob "
      ],
      "execution_count": null,
      "outputs": [
        {
          "output_type": "execute_result",
          "data": {
            "text/plain": [
              "13022000"
            ]
          },
          "metadata": {},
          "execution_count": 13
        }
      ]
    },
    {
      "cell_type": "code",
      "metadata": {
        "colab": {
          "base_uri": "https://localhost:8080/"
        },
        "id": "8h1lPiiUfmFz",
        "outputId": "6b6c737b-3f90-4077-822b-40a2065ae776"
      },
      "source": [
        "p.yob  #why it gives yob of a = because we are overriding its value"
      ],
      "execution_count": null,
      "outputs": [
        {
          "output_type": "execute_result",
          "data": {
            "text/plain": [
              "13022000"
            ]
          },
          "metadata": {},
          "execution_count": 14
        }
      ]
    },
    {
      "cell_type": "code",
      "metadata": {
        "id": "fYB6DNJWf2r1"
      },
      "source": [
        "#the above practice is very bad"
      ],
      "execution_count": null,
      "outputs": []
    },
    {
      "cell_type": "code",
      "metadata": {
        "id": "kyeUrO_7hBWv"
      },
      "source": [
        "#lets try the best practice for class data extraction"
      ],
      "execution_count": null,
      "outputs": []
    },
    {
      "cell_type": "code",
      "metadata": {
        "id": "C1mceGIlhE2T"
      },
      "source": [
        "class Person:\n",
        "  def __init__(self,name,lname,yob): #pass the data to the class with __init__\n",
        "    self.name = name\n",
        "    self.lname = lname\n",
        "    self.yob = yob\n",
        "#self is a pointer - just a reference pointing to itself "
      ],
      "execution_count": null,
      "outputs": []
    },
    {
      "cell_type": "code",
      "metadata": {
        "colab": {
          "base_uri": "https://localhost:8080/",
          "height": 178
        },
        "id": "hroonq2xhGu3",
        "outputId": "36842fb4-2230-4de6-a45a-4b62217241f6"
      },
      "source": [
        "p = Person()  #values missing"
      ],
      "execution_count": null,
      "outputs": [
        {
          "output_type": "error",
          "ename": "TypeError",
          "evalue": "ignored",
          "traceback": [
            "\u001b[0;31m---------------------------------------------------------------------------\u001b[0m",
            "\u001b[0;31mTypeError\u001b[0m                                 Traceback (most recent call last)",
            "\u001b[0;32m<ipython-input-18-030189911ff7>\u001b[0m in \u001b[0;36m<module>\u001b[0;34m()\u001b[0m\n\u001b[0;32m----> 1\u001b[0;31m \u001b[0mp\u001b[0m \u001b[0;34m=\u001b[0m \u001b[0mPerson\u001b[0m\u001b[0;34m(\u001b[0m\u001b[0;34m)\u001b[0m  \u001b[0;31m#values missing\u001b[0m\u001b[0;34m\u001b[0m\u001b[0;34m\u001b[0m\u001b[0m\n\u001b[0m",
            "\u001b[0;31mTypeError\u001b[0m: __init__() missing 3 required positional arguments: 'name', 'lname', and 'yob'"
          ]
        }
      ]
    },
    {
      "cell_type": "code",
      "metadata": {
        "colab": {
          "base_uri": "https://localhost:8080/"
        },
        "id": "rxT73P-uhGrb",
        "outputId": "00a242bc-bdc3-4c0e-fe22-4ae79998cb62"
      },
      "source": [
        "p = Person('vishnu','varshan',14022000)\n",
        "print(p)\n",
        "#__init__ initializes the data for the particular objects"
      ],
      "execution_count": null,
      "outputs": [
        {
          "output_type": "stream",
          "name": "stdout",
          "text": [
            "<__main__.Person object at 0x7f00b1759dd0>\n"
          ]
        }
      ]
    },
    {
      "cell_type": "code",
      "metadata": {
        "id": "3GT8ZP_bhGoQ"
      },
      "source": [
        "s = Person('abc','de',13893)"
      ],
      "execution_count": null,
      "outputs": []
    },
    {
      "cell_type": "code",
      "metadata": {
        "colab": {
          "base_uri": "https://localhost:8080/",
          "height": 35
        },
        "id": "fn6FkuwFhGkw",
        "outputId": "271ecee9-74d8-4a37-a822-8d3502cb62d3"
      },
      "source": [
        "p.name"
      ],
      "execution_count": null,
      "outputs": [
        {
          "output_type": "execute_result",
          "data": {
            "application/vnd.google.colaboratory.intrinsic+json": {
              "type": "string"
            },
            "text/plain": [
              "'vishnu'"
            ]
          },
          "metadata": {},
          "execution_count": 21
        }
      ]
    },
    {
      "cell_type": "code",
      "metadata": {
        "colab": {
          "base_uri": "https://localhost:8080/",
          "height": 35
        },
        "id": "-O6cpJurhGhT",
        "outputId": "2234deaf-099d-4d13-a7e5-ae525efa6dbf"
      },
      "source": [
        "s.name"
      ],
      "execution_count": null,
      "outputs": [
        {
          "output_type": "execute_result",
          "data": {
            "application/vnd.google.colaboratory.intrinsic+json": {
              "type": "string"
            },
            "text/plain": [
              "'abc'"
            ]
          },
          "metadata": {},
          "execution_count": 22
        }
      ]
    },
    {
      "cell_type": "code",
      "metadata": {
        "id": "xy7gBT-yhGdt"
      },
      "source": [
        "class Person1:\n",
        "  def __init__(self,name,lname,yob):\n",
        "    self.name = name\n",
        "    self.lname = lname\n",
        "    self.yob = yob\n",
        "\n",
        "  def test(self,n,m):\n",
        "    return n+m+self.yob  #error if doesn't used self.yob\n",
        "\n",
        "  def __str__(self): #always returns a string object\n",
        "    return \"%s %s is born on %d\"%(self.name,self.lname,self.yob)"
      ],
      "execution_count": null,
      "outputs": []
    },
    {
      "cell_type": "code",
      "metadata": {
        "colab": {
          "base_uri": "https://localhost:8080/"
        },
        "id": "Asz_I-K6hGaH",
        "outputId": "de51dc82-9ff9-4b40-8ece-45b78957f985"
      },
      "source": [
        "p1 = Person1('vishnu','varshan',14)\n",
        "p1.test(12,13)  "
      ],
      "execution_count": null,
      "outputs": [
        {
          "output_type": "execute_result",
          "data": {
            "text/plain": [
              "39"
            ]
          },
          "metadata": {},
          "execution_count": 24
        }
      ]
    },
    {
      "cell_type": "code",
      "metadata": {
        "id": "9sqsSbcrhGWG"
      },
      "source": [
        "s = Person1('abc','def',1320200)"
      ],
      "execution_count": null,
      "outputs": []
    },
    {
      "cell_type": "code",
      "metadata": {
        "colab": {
          "base_uri": "https://localhost:8080/"
        },
        "id": "LM4I6XkKhGSt",
        "outputId": "d0323cc8-70a7-4163-cc50-ada7c205754b"
      },
      "source": [
        "print(p1)  #only if we use print, __str__ will be returned"
      ],
      "execution_count": null,
      "outputs": [
        {
          "output_type": "stream",
          "name": "stdout",
          "text": [
            "vishnu varshan is born on 14\n"
          ]
        }
      ]
    },
    {
      "cell_type": "code",
      "metadata": {
        "id": "eDrs4Ap2hGOr"
      },
      "source": [
        "#i want the values inside the objects"
      ],
      "execution_count": null,
      "outputs": []
    },
    {
      "cell_type": "code",
      "metadata": {
        "colab": {
          "base_uri": "https://localhost:8080/"
        },
        "id": "WfYjJ2S0hGLI",
        "outputId": "9d2c9f71-ccee-4c40-c435-f33e2501af7f"
      },
      "source": [
        "print(s)"
      ],
      "execution_count": null,
      "outputs": [
        {
          "output_type": "stream",
          "name": "stdout",
          "text": [
            "abc def is born on 1320200\n"
          ]
        }
      ]
    },
    {
      "cell_type": "code",
      "metadata": {
        "colab": {
          "base_uri": "https://localhost:8080/"
        },
        "id": "bO67bYqWhGGv",
        "outputId": "b41800d3-ce91-40d9-9b11-0d4d58e96515"
      },
      "source": [
        "s.test(10,30)"
      ],
      "execution_count": null,
      "outputs": [
        {
          "output_type": "execute_result",
          "data": {
            "text/plain": [
              "1320240"
            ]
          },
          "metadata": {},
          "execution_count": 29
        }
      ]
    },
    {
      "cell_type": "code",
      "metadata": {
        "id": "qS_MTfeuhGCN"
      },
      "source": [
        "class person2:\n",
        "  def pass_name(self,name):\n",
        "    self.name = name\n",
        "\n",
        "  def pass_surname(self,surname):\n",
        "    self.surname = surname\n",
        "\n",
        "  def pass_yob(self, yob):\n",
        "    self.yob = yob"
      ],
      "execution_count": null,
      "outputs": []
    },
    {
      "cell_type": "code",
      "metadata": {
        "id": "3xrDzR0epUYu"
      },
      "source": [
        "# obj2 = person2('vishnu','varshan',1402) #not work without __init__"
      ],
      "execution_count": null,
      "outputs": []
    },
    {
      "cell_type": "code",
      "metadata": {
        "id": "3Bo-swIMpUV4"
      },
      "source": [
        "obj2 = person2()"
      ],
      "execution_count": null,
      "outputs": []
    },
    {
      "cell_type": "code",
      "metadata": {
        "id": "GXsyBO9UpUSk"
      },
      "source": [
        "obj2.pass_name('vishnu')\n",
        "obj2.pass_surname('varshan')\n",
        "obj2.pass_yob(3450)"
      ],
      "execution_count": null,
      "outputs": []
    },
    {
      "cell_type": "code",
      "metadata": {
        "id": "nDFcNpc4pUO_",
        "colab": {
          "base_uri": "https://localhost:8080/",
          "height": 35
        },
        "outputId": "01f8024d-c068-4224-b621-1f5d189882de"
      },
      "source": [
        "obj2.name"
      ],
      "execution_count": null,
      "outputs": [
        {
          "output_type": "execute_result",
          "data": {
            "application/vnd.google.colaboratory.intrinsic+json": {
              "type": "string"
            },
            "text/plain": [
              "'vishnu'"
            ]
          },
          "metadata": {},
          "execution_count": 48
        }
      ]
    },
    {
      "cell_type": "code",
      "metadata": {
        "id": "8YACYvFMpUKD"
      },
      "source": [
        "s1 = person2()"
      ],
      "execution_count": null,
      "outputs": []
    },
    {
      "cell_type": "code",
      "metadata": {
        "id": "A7Ut38SPpUE-"
      },
      "source": [
        "s1.pass_name('vishnu')\n",
        "s1.pass_surname('varshan')\n",
        "s1.pass_yob(3450)"
      ],
      "execution_count": null,
      "outputs": []
    },
    {
      "cell_type": "code",
      "metadata": {
        "colab": {
          "base_uri": "https://localhost:8080/"
        },
        "id": "QYNITCyjRe6P",
        "outputId": "3a966453-ad63-4fe2-d6f8-e63eda443b6e"
      },
      "source": [
        "s1.yob"
      ],
      "execution_count": null,
      "outputs": [
        {
          "output_type": "execute_result",
          "data": {
            "text/plain": [
              "3450"
            ]
          },
          "metadata": {},
          "execution_count": 52
        }
      ]
    },
    {
      "cell_type": "markdown",
      "metadata": {
        "id": "0yRqi_pXR_Be"
      },
      "source": [
        "# Abstraction"
      ]
    },
    {
      "cell_type": "code",
      "metadata": {
        "id": "-ZfSFlVaRwzW"
      },
      "source": [
        "#public - anyone can access anywhere,\n",
        "#protected - within the class and subclass,\n",
        "#private - only within the class"
      ],
      "execution_count": null,
      "outputs": []
    },
    {
      "cell_type": "code",
      "metadata": {
        "id": "KdEjANnwSDG-"
      },
      "source": [
        "class person3:\n",
        "  def pass_name(self,name):\n",
        "    self._name = name\n",
        "\n",
        "  def pass_surname(self,surname):\n",
        "    self._surname = surname\n",
        "\n",
        "  def pass_yob(self, yob):\n",
        "    self._yob = yob"
      ],
      "execution_count": null,
      "outputs": []
    },
    {
      "cell_type": "code",
      "metadata": {
        "id": "JpolbgB0Su7n"
      },
      "source": [
        "obj3 = person3()"
      ],
      "execution_count": null,
      "outputs": []
    },
    {
      "cell_type": "code",
      "metadata": {
        "id": "fyRZzR9OSu3k"
      },
      "source": [
        "obj3.pass_name('vishnu')"
      ],
      "execution_count": null,
      "outputs": []
    },
    {
      "cell_type": "code",
      "metadata": {
        "colab": {
          "base_uri": "https://localhost:8080/",
          "height": 35
        },
        "id": "DcYtkobySuzm",
        "outputId": "4ab8bdc4-64b4-4f8a-e9a5-ecf93c6742eb"
      },
      "source": [
        "obj3._name #underscore is private variable"
      ],
      "execution_count": null,
      "outputs": [
        {
          "output_type": "execute_result",
          "data": {
            "application/vnd.google.colaboratory.intrinsic+json": {
              "type": "string"
            },
            "text/plain": [
              "'vishnu'"
            ]
          },
          "metadata": {},
          "execution_count": 59
        }
      ]
    },
    {
      "cell_type": "code",
      "metadata": {
        "id": "x5P0TXC5SuxA"
      },
      "source": [
        "#public do not have any underscores"
      ],
      "execution_count": null,
      "outputs": []
    },
    {
      "cell_type": "code",
      "metadata": {
        "colab": {
          "base_uri": "https://localhost:8080/"
        },
        "id": "YGqjTx2pSuso",
        "outputId": "20e3b82d-549c-4fdc-cc29-627168a4aab1"
      },
      "source": [
        "obj3.__dict__ #to see the values inside the class"
      ],
      "execution_count": null,
      "outputs": [
        {
          "output_type": "execute_result",
          "data": {
            "text/plain": [
              "{'_name': 'vishnu'}"
            ]
          },
          "metadata": {},
          "execution_count": 61
        }
      ]
    },
    {
      "cell_type": "code",
      "metadata": {
        "colab": {
          "base_uri": "https://localhost:8080/"
        },
        "id": "DRXu7JOQSupj",
        "outputId": "a5fad69a-aa94-422e-e56f-fb66c2447d68"
      },
      "source": [
        "print(obj3)"
      ],
      "execution_count": null,
      "outputs": [
        {
          "output_type": "stream",
          "name": "stdout",
          "text": [
            "<__main__.person3 object at 0x7f00b1617990>\n"
          ]
        }
      ]
    },
    {
      "cell_type": "code",
      "metadata": {
        "id": "WEyYnRcBSult"
      },
      "source": [
        "class person4:\n",
        "  def pass_name(self,name):\n",
        "    self.__name = name  #\n",
        "\n",
        "  def pass_surname(self,surname):\n",
        "    self._surname = surname\n",
        "\n",
        "  def pass_yob(self, yob):\n",
        "    self._yob = yob"
      ],
      "execution_count": null,
      "outputs": []
    },
    {
      "cell_type": "code",
      "metadata": {
        "id": "stTfA86MSuh0"
      },
      "source": [
        "p4 = person4()"
      ],
      "execution_count": null,
      "outputs": []
    },
    {
      "cell_type": "code",
      "metadata": {
        "id": "HAXxAC8OUToy"
      },
      "source": [
        "p4.pass_name('vishnu')"
      ],
      "execution_count": null,
      "outputs": []
    },
    {
      "cell_type": "code",
      "metadata": {
        "colab": {
          "base_uri": "https://localhost:8080/",
          "height": 162
        },
        "id": "vy0Gxy1sUhPG",
        "outputId": "89b31136-6ec3-4116-d369-8f7ff4ecf72d"
      },
      "source": [
        "p4.__name  #error"
      ],
      "execution_count": null,
      "outputs": [
        {
          "output_type": "error",
          "ename": "AttributeError",
          "evalue": "ignored",
          "traceback": [
            "\u001b[0;31m---------------------------------------------------------------------------\u001b[0m",
            "\u001b[0;31mAttributeError\u001b[0m                            Traceback (most recent call last)",
            "\u001b[0;32m<ipython-input-71-2e0b474e58bf>\u001b[0m in \u001b[0;36m<module>\u001b[0;34m()\u001b[0m\n\u001b[0;32m----> 1\u001b[0;31m \u001b[0mp4\u001b[0m\u001b[0;34m.\u001b[0m\u001b[0m__name\u001b[0m\u001b[0;34m\u001b[0m\u001b[0;34m\u001b[0m\u001b[0m\n\u001b[0m",
            "\u001b[0;31mAttributeError\u001b[0m: 'person4' object has no attribute '__name'"
          ]
        }
      ]
    },
    {
      "cell_type": "code",
      "metadata": {
        "colab": {
          "base_uri": "https://localhost:8080/"
        },
        "id": "Rd54WsR8Ui2e",
        "outputId": "5bba3312-514f-4778-c7d6-b2d5c4f7eaa0"
      },
      "source": [
        "p4.__dict__  #storing with class name and the variable when using double underscores"
      ],
      "execution_count": null,
      "outputs": [
        {
          "output_type": "execute_result",
          "data": {
            "text/plain": [
              "{'_person4__name': 'vishnu'}"
            ]
          },
          "metadata": {},
          "execution_count": 77
        }
      ]
    },
    {
      "cell_type": "code",
      "metadata": {
        "colab": {
          "base_uri": "https://localhost:8080/",
          "height": 35
        },
        "id": "6U8gEEwjUoN-",
        "outputId": "bf109dfc-c2e7-459e-9e2e-df7b2427501c"
      },
      "source": [
        "p4._person4__name  #this is fully private"
      ],
      "execution_count": null,
      "outputs": [
        {
          "output_type": "execute_result",
          "data": {
            "application/vnd.google.colaboratory.intrinsic+json": {
              "type": "string"
            },
            "text/plain": [
              "'vishnu'"
            ]
          },
          "metadata": {},
          "execution_count": 78
        }
      ]
    },
    {
      "cell_type": "markdown",
      "metadata": {
        "id": "qGYXyArZnYX1"
      },
      "source": [
        "# Inheritance"
      ]
    },
    {
      "cell_type": "code",
      "metadata": {
        "id": "3KllFgIuU0v9"
      },
      "source": [
        "class person:\n",
        "  def __init__(self,name,lname,age):\n",
        "    self.name = name\n",
        "    self.lname = lname\n",
        "    self.age = age"
      ],
      "execution_count": 1,
      "outputs": []
    },
    {
      "cell_type": "code",
      "metadata": {
        "id": "LzdT_AEonUvi"
      },
      "source": [
        "class student(person):\n",
        "  def __init__(self,roll_no,college_name, *args): \n",
        "    super(student,self).__init__(*args) #person.__init__()\n",
        "    self.roll_no = roll_no\n",
        "    self.college_name = college_name"
      ],
      "execution_count": 3,
      "outputs": []
    },
    {
      "cell_type": "code",
      "metadata": {
        "id": "D_TQfAoinUgQ"
      },
      "source": [
        "stud = student(333,'kct','vishnu','varshan',20)"
      ],
      "execution_count": 4,
      "outputs": []
    },
    {
      "cell_type": "code",
      "metadata": {
        "id": "23wXUjSOnUbR",
        "colab": {
          "base_uri": "https://localhost:8080/"
        },
        "outputId": "6c803daf-83fc-4385-fa30-e56c38496639"
      },
      "source": [
        "stud.roll_no"
      ],
      "execution_count": 5,
      "outputs": [
        {
          "output_type": "execute_result",
          "data": {
            "text/plain": [
              "333"
            ]
          },
          "metadata": {},
          "execution_count": 5
        }
      ]
    },
    {
      "cell_type": "code",
      "metadata": {
        "id": "99iTRzr7nUWF",
        "colab": {
          "base_uri": "https://localhost:8080/",
          "height": 35
        },
        "outputId": "2a92584c-cb2f-48c3-dae4-869741bcbaa5"
      },
      "source": [
        "stud.name"
      ],
      "execution_count": 6,
      "outputs": [
        {
          "output_type": "execute_result",
          "data": {
            "application/vnd.google.colaboratory.intrinsic+json": {
              "type": "string"
            },
            "text/plain": [
              "'vishnu'"
            ]
          },
          "metadata": {},
          "execution_count": 6
        }
      ]
    },
    {
      "cell_type": "code",
      "metadata": {
        "id": "ajyMrNhrnUQr",
        "colab": {
          "base_uri": "https://localhost:8080/"
        },
        "outputId": "ead01ef2-8590-4df5-d3fc-7a301308fa44"
      },
      "source": [
        "stud.age"
      ],
      "execution_count": 7,
      "outputs": [
        {
          "output_type": "execute_result",
          "data": {
            "text/plain": [
              "20"
            ]
          },
          "metadata": {},
          "execution_count": 7
        }
      ]
    },
    {
      "cell_type": "code",
      "metadata": {
        "id": "3i1pwTdwnUMz",
        "colab": {
          "base_uri": "https://localhost:8080/"
        },
        "outputId": "1e120b5a-b772-4590-f8ae-556bb0eacfad"
      },
      "source": [
        "class a:\n",
        "  def test(self):\n",
        "    print('vishnu')\n",
        "\n",
        "class b:\n",
        "  def test(self):\n",
        "    print('varshan')\n",
        "\n",
        "class c(a,b):  #if we call test using c obj, a will work; c(b,a) here b will work\n",
        "  obja = a()\n",
        "  objb = b()\n",
        "  obja.test()\n",
        "  objb.test()\n",
        "\n"
      ],
      "execution_count": 8,
      "outputs": [
        {
          "output_type": "stream",
          "name": "stdout",
          "text": [
            "vishnu\n",
            "varshan\n"
          ]
        }
      ]
    },
    {
      "cell_type": "code",
      "metadata": {
        "id": "eMI9MCYnnUJK",
        "colab": {
          "base_uri": "https://localhost:8080/"
        },
        "outputId": "38a66f8f-f5b1-4059-951e-24af5627417a"
      },
      "source": [
        "objc = c()\n",
        "objc.test()"
      ],
      "execution_count": 9,
      "outputs": [
        {
          "output_type": "stream",
          "name": "stdout",
          "text": [
            "vishnu\n"
          ]
        }
      ]
    },
    {
      "cell_type": "markdown",
      "metadata": {
        "id": "9JI-jzdgNT37"
      },
      "source": [
        "# Polymorphism"
      ]
    },
    {
      "cell_type": "code",
      "metadata": {
        "id": "MgotJFgPnUGb"
      },
      "source": [
        "class Cat:\n",
        "    def __init__(self, name, age):\n",
        "        self.name = name\n",
        "        self.age = age\n",
        "\n",
        "    def info(self):\n",
        "        print(f\"I am a cat. My name is {self.name}. I am {self.age} years old.\")\n",
        "\n",
        "    def make_sound(self):\n",
        "        print(\"Meow\")\n"
      ],
      "execution_count": 10,
      "outputs": []
    },
    {
      "cell_type": "code",
      "metadata": {
        "id": "vycOAEZBnUC1"
      },
      "source": [
        "class Dog:\n",
        "    def __init__(self, name, age):\n",
        "        self.name = name\n",
        "        self.age = age\n",
        "\n",
        "    def info(self):\n",
        "        print(f\"I am a dog. My name is {self.name}. I am {self.age} years old.\")\n",
        "\n",
        "    def make_sound(self):\n",
        "        print(\"Bark\")"
      ],
      "execution_count": 11,
      "outputs": []
    },
    {
      "cell_type": "code",
      "metadata": {
        "id": "kQl0pv6AnT-y",
        "colab": {
          "base_uri": "https://localhost:8080/"
        },
        "outputId": "7fa37595-6104-40c1-fd1c-2955ce998119"
      },
      "source": [
        "cat1 = Cat(\"Kitty\", 2.5)\n",
        "dog1 = Dog(\"Fluffy\", 4)\n",
        "\n",
        "for animal in (cat1, dog1):\n",
        "    animal.make_sound()\n",
        "    animal.info()\n",
        "    animal.make_sound()"
      ],
      "execution_count": 12,
      "outputs": [
        {
          "output_type": "stream",
          "name": "stdout",
          "text": [
            "Meow\n",
            "I am a cat. My name is Kitty. I am 2.5 years old.\n",
            "Meow\n",
            "Bark\n",
            "I am a dog. My name is Fluffy. I am 4 years old.\n",
            "Bark\n"
          ]
        }
      ]
    },
    {
      "cell_type": "code",
      "metadata": {
        "id": "LrMpQnZenT7M"
      },
      "source": [
        ""
      ],
      "execution_count": null,
      "outputs": []
    },
    {
      "cell_type": "code",
      "metadata": {
        "id": "p_6Eak2rnT2x"
      },
      "source": [
        ""
      ],
      "execution_count": null,
      "outputs": []
    }
  ]
}